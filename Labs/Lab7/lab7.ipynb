{
  "nbformat": 4,
  "nbformat_minor": 0,
  "metadata": {
    "authors": [
      {
        "name": "Зубаиров Валерий Альбертович"
      }
    ],
    "group": "ИУ5-24М",
    "kernelspec": {
      "display_name": "Python 3",
      "language": "python",
      "name": "python3"
    },
    "lab_number": 7,
    "language_info": {
      "codemirror_mode": {
        "name": "ipython",
        "version": 3
      },
      "file_extension": ".py",
      "mimetype": "text/x-python",
      "name": "python",
      "nbconvert_exporter": "python",
      "pygments_lexer": "ipython3",
      "version": "3.7.7"
    },
    "title": "Использование нейронных сетей для анализа текста",
    "colab": {
      "name": "lab7.ipynb",
      "provenance": [],
      "collapsed_sections": []
    }
  },
  "cells": [
    {
      "cell_type": "markdown",
      "metadata": {
        "id": "_fnRQfyWgtnG",
        "colab_type": "text"
      },
      "source": [
        "# Задание на ЛР\n",
        "Итоговый код для обучения нейросети и оценки ее точности содержится в приложении. Необходимо увеличить количество скрытых слоев до 3-ех, а количество нейронов в этих слоях так, чтобы обеспечить точность работы нейросети не менее 75%. Темы текстов необходимо изменить в соответствии с вариатом:\n",
        "Вариант 5 - rec.autos, rec.sport.hockey, sci.crypt, sci.med, talk.religion.misc "
      ]
    },
    {
      "cell_type": "markdown",
      "metadata": {
        "id": "cVR4_UaOgtnH",
        "colab_type": "text"
      },
      "source": [
        "# Выполнение"
      ]
    },
    {
      "cell_type": "code",
      "metadata": {
        "id": "wn3He47ogtnJ",
        "colab_type": "code",
        "colab": {}
      },
      "source": [
        "import numpy as np\n",
        "from collections import Counter"
      ],
      "execution_count": 0,
      "outputs": []
    },
    {
      "cell_type": "code",
      "metadata": {
        "id": "3y_qSUCngtnO",
        "colab_type": "code",
        "colab": {}
      },
      "source": [
        "def get_word_2_index(vocab): \n",
        "    word2index = {}\n",
        "    for i, word in enumerate(vocab):\n",
        "        word2index[word] = i \n",
        "    return word2index"
      ],
      "execution_count": 0,
      "outputs": []
    },
    {
      "cell_type": "code",
      "metadata": {
        "id": "dACZQN4MgtnW",
        "colab_type": "code",
        "outputId": "18cad91b-6834-4387-966e-02c99836a920",
        "colab": {
          "base_uri": "https://localhost:8080/",
          "height": 680
        }
      },
      "source": [
        "from sklearn.datasets import fetch_20newsgroups\n",
        "categories = [\"sci.space\",\"rec.sport.hockey\",\"sci.crypt\", \"sci.med\", \"talk.religion.misc\"] \n",
        "newsgroups_train = fetch_20newsgroups(subset='train', categories=categories) \n",
        "newsgroups_test = fetch_20newsgroups(subset='test', categories=categories)\n",
        "print('total texts in train:',len(newsgroups_train.data)) \n",
        "print('total texts in test:',len(newsgroups_test.data)) \n",
        "print('text',newsgroups_train.data[0]) \n",
        "print('category:',newsgroups_train.target[0])\n",
        "\n",
        "vocab = Counter()\n",
        "\n",
        "for text in newsgroups_train.data:\n",
        "  for word in text.split(\" \"):\n",
        "    vocab[word.lower()] += 1\n",
        "for text in newsgroups_test.data:\n",
        "  for word in text.split(\" \"):\n",
        "    vocab[word.lower()] += 1\n",
        "\n",
        "word2index = get_word_2_index(vocab)\n",
        "total_words = len(vocab)"
      ],
      "execution_count": 3,
      "outputs": [
        {
          "output_type": "stream",
          "text": [
            "total texts in train: 2759\n",
            "total texts in test: 1836\n",
            "text From: ekr@kyle.eitech.com (Eric Rescorla)\n",
            "Subject: Re: After 2000 years, can we say that Christian Morality is\n",
            "Organization: EIT\n",
            "Lines: 29\n",
            "NNTP-Posting-Host: kyle.eitech.com\n",
            "\n",
            "In article <1qjd3o$nlv@horus.ap.mchp.sni.de> frank@D012S658.uucp (Frank O'Dwyer) writes:\n",
            ">In article <sandvik-140493230024@sandvik-kent.apple.com# sandvik@newton.apple.com (Kent Sandvik) writes:\n",
            ">#In article <1qie61$fkt@horus.ap.mchp.sni.de>, frank@D012S658.uucp (Frank\n",
            ">#O'Dwyer) wrote:\n",
            ">#> Objective morality is morality built from objective values.\n",
            ">#\n",
            ">#You now pushed down the defintion of objectivity into realm of\n",
            ">#objective values. So you need to explain that as well, as well\n",
            ">#as the objective sub-parts, the objective atoms, quarks...\n",
            ">Firstly, science has its basis in values, not the other way round.\n",
            "You keep saying that. I do not think it means what you think it\n",
            "means.\n",
            "Perhaps you should explain what you think \"science has it's basis\n",
            "in values\" means. The reason why people DO science is that\n",
            "they value it's results. That does not mean that science has\n",
            "it's basis in values. Any more than DES stops working if I stop\n",
            "valuing my privacy.\n",
            "\n",
            ">So you better explain what objective atoms are, and how we get them\n",
            ">from subjective values, before we go any further.\n",
            "See above.\n",
            "\n",
            "-Ekr\n",
            "\n",
            "\n",
            "-- \n",
            "Eric Rescorla                                     ekr@eitech.com\n",
            "             Would you buy used code from this man?\n",
            "        \n",
            "\n",
            "category: 4\n"
          ],
          "name": "stdout"
        }
      ]
    },
    {
      "cell_type": "code",
      "metadata": {
        "id": "AIaiM8jOgtnZ",
        "colab_type": "code",
        "outputId": "8bde135b-11f7-45c5-a106-f8fdcde0ecba",
        "colab": {
          "base_uri": "https://localhost:8080/",
          "height": 102
        }
      },
      "source": [
        "%tensorflow_version 1.14\n",
        "import tensorflow as tf"
      ],
      "execution_count": 4,
      "outputs": [
        {
          "output_type": "stream",
          "text": [
            "`%tensorflow_version` only switches the major version: 1.x or 2.x.\n",
            "You set: `1.14`. This will be interpreted as: `1.x`.\n",
            "\n",
            "\n",
            "TensorFlow 1.x selected.\n"
          ],
          "name": "stdout"
        }
      ]
    },
    {
      "cell_type": "code",
      "metadata": {
        "id": "rrRlFwO4gtnb",
        "colab_type": "code",
        "colab": {}
      },
      "source": [
        "# Параметры обучения\n",
        "learning_rate = 0.01 \n",
        "training_epochs = 10\n",
        "batch_size = 150\n",
        "display_step = 1\n",
        "# Network Parameters\n",
        "n_hidden_1 = 850 # скрытый слой\n",
        "n_hidden_2 = 400 # скрытый слой\n",
        "n_hidden_3 = 250\n",
        "n_input = total_words # количество уникальных слов в наших текстах \n",
        "n_classes = 5 # 5 классов\n",
        "input_tensor = tf.placeholder(tf.float32,[None, n_input],name=\"input\") \n",
        "output_tensor = tf.placeholder(tf.float32,[None, n_classes],name=\"output\")"
      ],
      "execution_count": 0,
      "outputs": []
    },
    {
      "cell_type": "code",
      "metadata": {
        "id": "x4I3utU5gtne",
        "colab_type": "code",
        "colab": {}
      },
      "source": [
        "def multilayer_perceptron(input_tensor, weights, biases):\n",
        "    layer_1_multiplication = tf.matmul(input_tensor, weights['h1']) \n",
        "    layer_1_addition = tf.add(layer_1_multiplication, biases['b1']) \n",
        "    layer_1 = tf.nn.relu(layer_1_addition)\n",
        "    \n",
        "    layer_2_multiplication = tf.matmul(layer_1, weights['h2']) \n",
        "    layer_2_addition = tf.add(layer_2_multiplication, biases['b2']) \n",
        "    layer_2 = tf.nn.relu(layer_2_addition)\n",
        "    \n",
        "    layer_3_multiplication = tf.matmul(layer_2, weights['h3']) \n",
        "    layer_3_addition = tf.add(layer_3_multiplication, biases['b3']) \n",
        "    layer_3 = tf.nn.relu(layer_3_addition)\n",
        "    \n",
        "    out_layer_multiplication = tf.matmul(layer_3, weights['out']) \n",
        "    out_layer_addition = out_layer_multiplication + biases['out']\n",
        "    \n",
        "    return out_layer_addition\n"
      ],
      "execution_count": 0,
      "outputs": []
    },
    {
      "cell_type": "code",
      "metadata": {
        "id": "hHlv5UDDgtnf",
        "colab_type": "code",
        "colab": {}
      },
      "source": [
        "weights = {\n",
        "    'h1': tf.Variable(tf.random_normal([n_input, n_hidden_1])), \n",
        "    'h2': tf.Variable(tf.random_normal([n_hidden_1, n_hidden_2])),\n",
        "    'h3': tf.Variable(tf.random_normal([n_hidden_2, n_hidden_3])),\n",
        "    'out': tf.Variable(tf.random_normal([n_hidden_3, n_classes])) }\n",
        "biases = {\n",
        "    'b1': tf.Variable(tf.random_normal([n_hidden_1])),\n",
        "    'b2': tf.Variable(tf.random_normal([n_hidden_2])),\n",
        "    'b3': tf.Variable(tf.random_normal([n_hidden_3])),\n",
        "    'out': tf.Variable(tf.random_normal([n_classes]))\n",
        "}"
      ],
      "execution_count": 0,
      "outputs": []
    },
    {
      "cell_type": "code",
      "metadata": {
        "id": "b6d-FexRgtnh",
        "colab_type": "code",
        "colab": {}
      },
      "source": [
        "def get_batch(df, i, batch_size):\n",
        "  batches = []\n",
        "  results = []\n",
        "  texts = df.data[i * batch_size:i * batch_size + batch_size] \n",
        "  categories = df.target[i * batch_size:i * batch_size + batch_size]\n",
        "  for text in texts:\n",
        "    layer = np.zeros(total_words, dtype=float) \n",
        "    for word in text.split(\" \"):\n",
        "      layer[word2index[word.lower()]] += 1 \n",
        "    batches.append(layer)\n",
        "  for category in categories:\n",
        "    y = np.zeros((5), dtype=float)\n",
        "    if category == 0: \n",
        "      y[0] = 1.\n",
        "    elif category == 1: \n",
        "      y[1] = 1.\n",
        "    elif category == 2:\n",
        "      y[2] = 1.\n",
        "    elif category == 3:\n",
        "      y[3] = 1.\n",
        "    else:\n",
        "      y[4] = 1.\n",
        "    results.append(y)\n",
        "  return np.array(batches), np.array(results)"
      ],
      "execution_count": 0,
      "outputs": []
    },
    {
      "cell_type": "code",
      "metadata": {
        "id": "9qCsS_VLgtni",
        "colab_type": "code",
        "colab": {}
      },
      "source": [
        "prediction = multilayer_perceptron(input_tensor, weights, biases)"
      ],
      "execution_count": 0,
      "outputs": []
    },
    {
      "cell_type": "code",
      "metadata": {
        "id": "e-KGEh00gtnk",
        "colab_type": "code",
        "outputId": "ceea9ed4-c2ba-4034-caa1-11e370f0722c",
        "colab": {
          "base_uri": "https://localhost:8080/",
          "height": 153
        }
      },
      "source": [
        "loss = tf.reduce_mean(tf.nn.softmax_cross_entropy_with_logits(logits=prediction, labels=output_tensor)) \n",
        "optimizer = tf.train.AdamOptimizer(learning_rate=learning_rate).minimize(loss)\n",
        "init = tf.global_variables_initializer()"
      ],
      "execution_count": 10,
      "outputs": [
        {
          "output_type": "stream",
          "text": [
            "WARNING:tensorflow:From <ipython-input-10-6a0ae33cb788>:1: softmax_cross_entropy_with_logits (from tensorflow.python.ops.nn_ops) is deprecated and will be removed in a future version.\n",
            "Instructions for updating:\n",
            "\n",
            "Future major versions of TensorFlow will allow gradients to flow\n",
            "into the labels input on backprop by default.\n",
            "\n",
            "See `tf.nn.softmax_cross_entropy_with_logits_v2`.\n",
            "\n"
          ],
          "name": "stdout"
        }
      ]
    },
    {
      "cell_type": "code",
      "metadata": {
        "id": "3HF7kTTYgtnl",
        "colab_type": "code",
        "outputId": "678faec6-547a-4814-e185-765534e5c069",
        "colab": {
          "base_uri": "https://localhost:8080/",
          "height": 374
        }
      },
      "source": [
        "with tf.Session() as sess: \n",
        "  sess.run(init)\n",
        "  for epoch in range(training_epochs):\n",
        "    avg_cost = 0.\n",
        "    total_batch = int(len(newsgroups_train.data)/batch_size)\n",
        "    for i in range(total_batch):\n",
        "      batch_x,batch_y = get_batch(newsgroups_train,i,batch_size)\n",
        "      c,_ = sess.run([loss,optimizer], feed_dict={input_tensor: batch_x,output_tensor:batch_y}) # Вычисляем среднее функции потерь\n",
        "      avg_cost += c / total_batch\n",
        "    print(\"Эпоха:\", '%04d' % (epoch+1), \"loss=\", \"{:.16f}\".format(avg_cost))\n",
        "    print(\"Обучение завершено!\")\n",
        "\n",
        "\n",
        "  correct_prediction = tf.equal(tf.argmax(prediction, 1), tf.argmax(output_tensor, 1)) # Расчет точности\n",
        "  accuracy = tf.reduce_mean(tf.cast(correct_prediction, \"float\"))\n",
        "  total_test_data = len(newsgroups_test.target)\n",
        "  batch_x_test,batch_y_test = get_batch(newsgroups_test,0,total_test_data)\n",
        "  print(\"Точность:\", accuracy.eval({input_tensor: batch_x_test, output_tensor: batch_y_test}))"
      ],
      "execution_count": 11,
      "outputs": [
        {
          "output_type": "stream",
          "text": [
            "Эпоха: 0001 loss= 186454.9225260416860692\n",
            "Обучение завершено!\n",
            "Эпоха: 0002 loss= 49925.1380479600629769\n",
            "Обучение завершено!\n",
            "Эпоха: 0003 loss= 18226.6959279113361845\n",
            "Обучение завершено!\n",
            "Эпоха: 0004 loss= 3334.2138179143266825\n",
            "Обучение завершено!\n",
            "Эпоха: 0005 loss= 9964.0197810464433132\n",
            "Обучение завершено!\n",
            "Эпоха: 0006 loss= 19544.0763541327578423\n",
            "Обучение завершено!\n",
            "Эпоха: 0007 loss= 5444.5479388766816555\n",
            "Обучение завершено!\n",
            "Эпоха: 0008 loss= 601.5303073459201642\n",
            "Обучение завершено!\n",
            "Эпоха: 0009 loss= 18.7147407531738281\n",
            "Обучение завершено!\n",
            "Эпоха: 0010 loss= 2.8609144422743054\n",
            "Обучение завершено!\n",
            "Точность: 0.79901963\n"
          ],
          "name": "stdout"
        }
      ]
    },
    {
      "cell_type": "markdown",
      "metadata": {
        "id": "r1xCzPCwhNhr",
        "colab_type": "text"
      },
      "source": [
        "# Контрольные вопросы\n",
        "1. Какие вы знаете задачи обработки текстов, в чем они заключаются? \n",
        "Классификация (разбиение по темам), кластеризация (семинатический анализ текстов), построение ассоциативных правил, машинный перевод.\n",
        "2. Зачем нужна предобработка текста для машинного обучения?   \n",
        "Машина не умеет работать со словами, поэтому их преобразуют в эмбеддинги. Не всегда важен порядок слов, а когда-то он играет ключевую роль. Поэтому можно по-разному производить предобработку текстов. Данные могут быть зашумлены либо несогласованы.\n",
        "3. Какие виды предобработки текста вы знаете?  \n",
        "Стемминг, Лемматизация, векторизация, дедубликация, \n",
        "4. Что такое стемминг?  \n",
        "Учет словоформ. Отсекание суффиксов и прочих морфем у слова, чтобы не было множества вариаций по сути одного и того же слова.\n",
        "5. Что такое 20 Newsgroups?  \n",
        "Набор текстовых данных, состоящий из примерно 20 тысяч постов по 20 различным темам.\n",
        "6. Чему должно равняться число входных и выходных нейронов в задаче классификации текстов?\n",
        "Выходных должно быть столько, сколько у нас классов.   \n",
        "Входных должно быть столько, сколько уникальых слов содержится в словаре."
      ]
    },
    {
      "cell_type": "markdown",
      "metadata": {
        "id": "xBlYt3Wngtnm",
        "colab_type": "text"
      },
      "source": [
        "# Список литературы\n",
        "[1] Google. Tensorflow. 2018. Feb. url - https://www.tensorflow.org/install/install_windows.    \n",
        "[2] url - https://virtualenv.pypa.io/en/stable/userguide/.    \n",
        "[3] Microsoft. about_Execution_Policies. 2018. url - https://technet.microsoft.com/en- us/library/dd347641.aspx.   \n",
        "[4] Jupyter Project. Installing Jupyter. 2018. url - http://jupyter.org/install."
      ]
    }
  ]
}