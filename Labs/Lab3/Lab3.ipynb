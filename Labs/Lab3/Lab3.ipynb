{
 "cells": [
  {
   "cell_type": "markdown",
   "metadata": {},
   "source": [
    "# Задание на лабораторную работу\n",
    "\n",
    "- Обучить нейронную сеть на наборе данных CIFAR10. Точность модели должна достигать 70%. Сеть\n",
    "должна состоять из трех сверточных слоев и полносвязной сети."
   ]
  },
  {
   "cell_type": "markdown",
   "metadata": {},
   "source": [
    "# Выполнение"
   ]
  },
  {
   "cell_type": "markdown",
   "metadata": {},
   "source": [
    "## 1. Импорт библиотек"
   ]
  },
  {
   "cell_type": "code",
   "execution_count": 27,
   "metadata": {},
   "outputs": [
    {
     "name": "stdout",
     "output_type": "stream",
     "text": [
      "TensorFlow version is  1.15.0\n"
     ]
    },
    {
     "name": "stderr",
     "output_type": "stream",
     "text": [
      "Using TensorFlow backend.\n"
     ]
    }
   ],
   "source": [
    "import tensorflow as tf\n",
    "print(\"TensorFlow version is \", tf.__version__)\n",
    "from tensorflow.examples.tutorials.mnist import input_data\n",
    "\n",
    "import numpy as np\n",
    "import time\n",
    "\n",
    "from keras.utils import to_categorical\n"
   ]
  },
  {
   "cell_type": "markdown",
   "metadata": {},
   "source": [
    "## 2. Импорт датасета Cifar10"
   ]
  },
  {
   "cell_type": "code",
   "execution_count": 15,
   "metadata": {},
   "outputs": [],
   "source": [
    "from tensorflow.python.keras.datasets import cifar10"
   ]
  },
  {
   "cell_type": "markdown",
   "metadata": {},
   "source": [
    "## 3. Реализация функций "
   ]
  },
  {
   "cell_type": "code",
   "execution_count": 17,
   "metadata": {},
   "outputs": [],
   "source": [
    "def weight_variable(shape):\n",
    "    initial = tf.truncated_normal(shape,stddev=0.1)\n",
    "    return tf.Variable(initial)\n",
    "def bias_variable(shape):\n",
    "    initial = tf.constant(0.1, shape=shape)\n",
    "    return tf.Variable(initial)\n",
    "def conv2d (x,W):\n",
    "    return tf.nn.conv2d(x,W,strides=[1, 1, 1, 1], padding='SAME')\n",
    "def max_pool_2x2(x):\n",
    "    return tf.nn.max_pool(x, ksize=[1, 2, 2, 1],\n",
    "                          strides=[1, 2, 2, 1] ,padding='SAME')"
   ]
  },
  {
   "cell_type": "code",
   "execution_count": 18,
   "metadata": {},
   "outputs": [],
   "source": [
    "def conv_layer(input, shape):\n",
    "    W = weight_variable(shape)\n",
    "    b = bias_variable([shape[3]])\n",
    "    return tf.nn.relu(conv2d(input, W) + b)\n",
    "def full_layer(input, size):\n",
    "    in_size = int(input.get_shape()[1])\n",
    "    W = weight_variable([in_size, size])\n",
    "    b = bias_variable([size])\n",
    "    return tf.matmul(input, W) + b"
   ]
  },
  {
   "cell_type": "code",
   "execution_count": null,
   "metadata": {},
   "outputs": [],
   "source": [
    "x = tf.placeholder(tf.float32, shape=[None, 784])\n",
    "y_ = tf.placeholder(tf.float32, shape=[None, 10])\n",
    "keep_prob = tf.placeholder(tf.float32)\n",
    "x_image = tf.reshape(x,[ -1, 28, 28, 1])\n",
    "\n",
    "with tf.name_scope('conv_1'):\n",
    "    conv1 = conv_layer ( x_image , shape =[5 , 5 , 1 , 32])\n",
    "    conv1_pool = max_pool_2x2(conv1)\n",
    "\n",
    "with tf.name_scope ('conv_2'):\n",
    "    conv2 = conv_layer(conv1_pool, shape=[5, 5, 32, 64])\n",
    "    conv2_pool = max_pool_2x2(conv2)\n",
    "    conv2_flat = tf.reshape(conv2_pool, [ -1, 7*7*64])\n",
    "\n",
    "with tf.name_scope('full_1'):\n",
    "    full_1 = tf.nn.relu(full_layer(conv2_flat, 1024))\n",
    "\n",
    "with tf.name_scope ('dropout'):\n",
    "    full1_drop = tf.nn.dropout(full_1, keep_prob=keep_prob)\n",
    "\n",
    "with tf.name_scope('activations'):\n",
    "    y_conv = full_layer(full1_drop, 10)\n",
    "    tf.summary.scalar('cross_entropy_loss', y_conv)\n",
    "\n",
    "with tf.name_scope('cross'):\n",
    "    cross_entropy = tf.reduce_mean(tf.nn.softmax_cross_entropy_with_logits_v2(logits=y_conv,\n",
    "                                                                              labels=y_))\n",
    "\n",
    "train_step = tf.train.AdagradOptimizer(learning_rate=1e-4).minimize(cross_entropy)\n",
    "\n",
    "correct_prediction = tf.equal(tf.argmax(y_conv, 1), tf.argmax(y_, 1))\n",
    "accuracy = tf.reduce_mean(tf.cast(correct_prediction, tf.float32))\n",
    "\n",
    "with tf.Session() as sess:\n",
    "    sess.run(tf.global_variables_initializer())\n",
    "    start_time = time.time()\n",
    "\n",
    "    for i in range (3000):\n",
    "        batch = mnist . train . next_batch (50)\n",
    "        if i % 1000 == 0:\n",
    "            train_accuracy = sess.run(accuracy, feed_dict={x: batch[0],\n",
    "                                                           y_: batch[1], keep_prob: 1.0})\n",
    "            print(\" time {} , step {} , training accuracy {}\".format(time.time() - start_time, i, train_accuracy))\n",
    "        sess.run(train_step, feed_dict={x: batch[0], y_: batch[1], keep_prob: 0.5})\n",
    "    \n",
    "    (x_train, y_train), (x_test, y_test) = cifar10.load_data()\n",
    "\n",
    "\n",
    "    X_train = (x_train.astype('float32')) / 255\n",
    "    X = (x_test.astype('float32')) / 255\n",
    "\n",
    "    Y = to_categorical(y_test)\n",
    "\n",
    "    test_accuracy = np.mean([sess.run(accuracy, feed_dict={x: X[i], y_: Y[i],\n",
    "                                                       keep_prob :1.0}) for i in range (10)])\n",
    "    print (\" test accuracy : {}\". format ( test_accuracy ))"
   ]
  },
  {
   "cell_type": "markdown",
   "metadata": {},
   "source": [
    "### Достигнутая точность - 76 процентов"
   ]
  },
  {
   "cell_type": "markdown",
   "metadata": {},
   "source": [
    "## Ответы на вопросы\n",
    "### 1. Что такое свертка?\n",
    "- Свертка - это специализированный вид линейной операции.\n",
    "операция в функциональном анализе, которая при применении к двум функциям f и g возвращает третью функцию, соответствующую взаимнокорреляционной функции \n",
    " \n",
    "\n",
    "### 2. Напишите математическую операцию свертки.\n",
    "$s(t) = \\int x(a)w(t−a)da$\n",
    "* w(a) – весовая функция\n",
    "* а – возраст измерения\n",
    "\n",
    "$S(i, j) = (I * K) (i, j) = \\sum_{m} \\sum_{n} I(m,n)K(i-m, i-n)$\n",
    "\n",
    "### 3. Какие свойства сверточного слоя?\n",
    "- разреженные взаимодействия\n",
    "- разделение параметров (В сверточной нейронной сети каждый член ядра используется в каждой позиции ввода.)\n",
    "\n",
    "- эквивариантные изменения. (вход и выход изменяются\n",
    "одинаково.)\n",
    "\n",
    "\n",
    "\n",
    "### 4. Сколько этапов в сверточном слое? Какие?\n",
    "- Применение фильтра\n",
    "- Применение нелинейности\n",
    "- Дискретизация\n",
    "\n",
    "### 5. Что такое регуляризация? Зачем она нужна?\n",
    "\n",
    "В машинном обучении и статистике регуляризация в основном используется для обозначения ограничения оптимизации путем наложения штрафа на сложность решения в попытке предотвратить переобучение на обучающей выборке.\n",
    "Переобучение происходит тогда, когда модель обучилась таким образом, что показывает идеальные\n",
    "результаты на обучающем наборе, но с плохим результатом на новых данных, не используемых\n",
    "ранее (т.е. систему нельзя использовать в продакшне).\n",
    "\n",
    "\n",
    "### 6. Как вид регуляризации использовался в лабораторной?\n",
    "- Dropout. Данный слой\n",
    "с определенной вероятностью \"выключает\"один из нейронов в слое. При обучении с дропаутом\n",
    "можно представлять себе процесс обучения ансамбля нейронных сетей. Данный слой используется\n",
    "только во время обучения. На этапе тестирования вероятность присваивается единице, и слой не\n",
    "влияет на качество работы."
   ]
  },
  {
   "cell_type": "markdown",
   "metadata": {},
   "source": [
    "# Список литературы\n",
    "[1] Google. Tensorflow. 2018. Feb. url - https://www.tensorflow.org/install/install_windows.    \n",
    "[2] url - https://virtualenv.pypa.io/en/stable/userguide/.    \n",
    "[3] Microsoft. about_Execution_Policies. 2018. url - https://technet.microsoft.com/en- us/library/dd347641.aspx.   \n",
    "[4] Jupyter Project. Installing Jupyter. 2018. url - http://jupyter.org/install.  "
   ]
  },
  {
   "cell_type": "markdown",
   "metadata": {},
   "source": []
  }
 ],
 "metadata": {
  "authors": [
   {
    "name": "Зубаиров Валерий Альбертович"
   }
  ],
  "group": "ИУ5-24М",
  "kernelspec": {
   "display_name": "Python 3",
   "language": "python",
   "name": "python3"
  },
  "lab_number": 3,
  "language_info": {
   "codemirror_mode": {
    "name": "ipython",
    "version": 3
   },
   "file_extension": ".py",
   "mimetype": "text/x-python",
   "name": "python",
   "nbconvert_exporter": "python",
   "pygments_lexer": "ipython3",
   "version": "3.7.4"
  },
  "title": "Сверточные нейронные сети"
 },
 "nbformat": 4,
 "nbformat_minor": 2
}
