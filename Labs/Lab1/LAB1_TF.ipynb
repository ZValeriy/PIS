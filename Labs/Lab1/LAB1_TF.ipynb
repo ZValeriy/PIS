{
 "cells": [
  {
   "cell_type": "markdown",
   "metadata": {},
   "source": [
    "## Задание на лабораторную работу\n",
    "\n",
    "1. Настраивать рабочее пространство для работы с tensorflow framework. \n",
    "2. Установить необходимые компоненты для корректной работы фреймворка\n",
    "3. Установить и активировать виртуальное окружение.\n",
    "3. Проверить работоспособность установленной библиотеки\n"
   ]
  },
  {
   "cell_type": "markdown",
   "metadata": {},
   "source": [
    "## 1. Установка tensorflow"
   ]
  },
  {
   "cell_type": "markdown",
   "metadata": {},
   "source": [
    "* pip3 install tensorflow"
   ]
  },
  {
   "cell_type": "markdown",
   "metadata": {},
   "source": [
    "## 2. Установка virtualenv\n",
    "* pip3 install virtualenv\n"
   ]
  },
  {
   "cell_type": "markdown",
   "metadata": {},
   "source": [
    "## 3. Установка jupyter\n",
    "* pip3 install jupyter"
   ]
  },
  {
   "cell_type": "markdown",
   "metadata": {},
   "source": [
    "## 4. Установка и активация виртуального окружения\n",
    "* virtualenv PIS\n",
    "* source PIS/bin/activate\n",
    "* jupyter notebook"
   ]
  },
  {
   "cell_type": "markdown",
   "metadata": {},
   "source": [
    "## 5. Создание двух графов"
   ]
  },
  {
   "cell_type": "code",
   "execution_count": 2,
   "metadata": {},
   "outputs": [],
   "source": [
    "import tensorflow as tf"
   ]
  },
  {
   "cell_type": "code",
   "execution_count": 8,
   "metadata": {
    "scrolled": false
   },
   "outputs": [
    {
     "name": "stdout",
     "output_type": "stream",
     "text": [
      "tf.Tensor(3.0, shape=(), dtype=float32)\n",
      "tf.Tensor(22.4, shape=(), dtype=float32)\n"
     ]
    }
   ],
   "source": [
    "@tf.function \n",
    "def f(a, b):\n",
    "    g = tf.Graph()\n",
    "    with g.as_default():\n",
    "        y = tf.add(a,b)\n",
    "        return y\n",
    "\n",
    "@tf.function\n",
    "def f2(a, b):\n",
    "    g = tf.Graph()\n",
    "    with g.as_default():\n",
    "        y = tf.multiply(a, b)\n",
    "        return y\n",
    "\n",
    "a = tf.constant(1.0) \n",
    "b = tf.constant(2.0)\n",
    "\n",
    "a1 = tf.constant(4.0)\n",
    "b1 = tf.constant(5.6)\n",
    "\n",
    "print(f(a, b))\n",
    "print(f2(a1, b1))"
   ]
  },
  {
   "cell_type": "markdown",
   "metadata": {},
   "source": [
    "## Список литературы\n",
    "[1] Google. Tensorflow. 2018. Feb. url - https://www.tensorflow.org/install/install_windows.    \n",
    "[2] url - https://virtualenv.pypa.io/en/stable/userguide/.    \n",
    "[3] Microsoft. about_Execution_Policies. 2018. url - https://technet.microsoft.com/en- us/library/dd347641.aspx.   \n",
    "[4] Jupyter Project. Installing Jupyter. 2018. url - http://jupyter.org/install.   "
   ]
  }
 ],
 "metadata": {
  "authors": [
   {
    "name": "Зубаиров Валерий Альбертович"
   }
  ],
  "group": "ИУ5-24М",
  "kernelspec": {
   "display_name": "Python 3",
   "language": "python",
   "name": "python3"
  },
  "lab_number": 1,
  "language_info": {
   "codemirror_mode": {
    "name": "ipython",
    "version": 3
   },
   "file_extension": ".py",
   "mimetype": "text/x-python",
   "name": "python",
   "nbconvert_exporter": "python",
   "pygments_lexer": "ipython3",
   "version": "3.7.4"
  },
  "title": "Настройка Jupyter Notebook, TensorFlow"
 },
 "nbformat": 4,
 "nbformat_minor": 2
}
