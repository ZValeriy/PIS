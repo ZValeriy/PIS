{
 "cells": [
  {
   "cell_type": "markdown",
   "metadata": {},
   "source": [
    "\n",
    "\n"
   ]
  },
  {
   "cell_type": "markdown",
   "metadata": {},
   "source": [
    "# РК №1. \n",
    "## Зубаиров Валерий.  \n",
    "## ИУ5-24М\n",
    "## Вариант 2"
   ]
  },
  {
   "cell_type": "markdown",
   "metadata": {},
   "source": [
    "# 1. Формула для расчета размерности выходной карты признаков\n",
    "\n",
    "$\\left\\lfloor {\\frac{w + 2 * p - k_2}{s} + 1} \\right\\rfloor x \\left\\lfloor {\\frac{h + 2*p - k_h}{s} + 1}\\right\\rfloor $"
   ]
  },
  {
   "cell_type": "markdown",
   "metadata": {},
   "source": [
    "# 2. Расчет градиента сигмоидальной функции:\n",
    "\n",
    "$y=\\sigma(Wx+b)$   \n",
    "$\\sigma = \\frac{1}{1+e^{-y}}$\n",
    "\n",
    "$-\\frac{(1 + e^{-y})^i}{(1 + e^{-y})^2} = \\frac{e^{-y}}{(1 + e^{-y})^2} = \\frac{\\frac{1-\\sigma(y)}{\\sigma(y)}}{\\frac{1}{\\sigma^2(y)}} = \\sigma(y)(1-\\sigma(y))$   \n",
    "\n",
    "Далее Еще нужно умножить на производную внутренней функции Wx+b.\n",
    "Тогда частная производная по W - это\n",
    "\n",
    "$\\sigma(y)(1-\\sigma(y))*(-W*x)$\n",
    "\n",
    "А частная производная по b - это \n",
    "$\\sigma(y)(1-\\sigma(y))*(-b)$"
   ]
  },
  {
   "attachments": {},
   "cell_type": "markdown",
   "metadata": {},
   "source": [
    "# 3. Свертка.\n",
    "\n",
    "Таблица входных данных (6x6) и ядро (2x2)\n",
    "\n",
    "1) Размерность карт признаков - 5 x 5    \n",
    "2) Значения карт признаков с шагом ядра 1\n",
    "\n",
    "$\\begin{Vmatrix} 54 & 23 & 36 & 84 & 28 \\\\ 54 & 14 & 80 & 54 & 16 \\\\ 64 & 39 & 70 & 67 & 67 \\\\ 66 & 69 & 79 & 48 & 47 \\\\ 67 & 98 & 89 & 70 & 62 \\end{Vmatrix}$"
   ]
  }
 ],
 "metadata": {
  "kernelspec": {
   "display_name": "Python 3",
   "language": "python",
   "name": "python3"
  },
  "language_info": {
   "codemirror_mode": {
    "name": "ipython",
    "version": 3
   },
   "file_extension": ".py",
   "mimetype": "text/x-python",
   "name": "python",
   "nbconvert_exporter": "python",
   "pygments_lexer": "ipython3",
   "version": "3.7.7"
  }
 },
 "nbformat": 4,
 "nbformat_minor": 4
}
